{
 "cells": [
  {
   "cell_type": "markdown",
   "id": "e5d79b9f",
   "metadata": {},
   "source": [
    "# Project 4: A/B-Testing"
   ]
  },
  {
   "cell_type": "markdown",
   "id": "514a2d74",
   "metadata": {},
   "source": [
    "### Brief Project Description"
   ]
  },
  {
   "cell_type": "markdown",
   "id": "85949c29",
   "metadata": {},
   "source": [
    "Given data that contains the advertisement click rate for two products, we want to determine which product performs better. In order to achieve this goal, we use an A/B-Test."
   ]
  },
  {
   "cell_type": "markdown",
   "id": "de267882",
   "metadata": {},
   "source": [
    "The dataset that we are using throughout this project is a slightly changend version from an original file that can be found here: https://github.com/lazyprogrammer/machine_learning_examples/blob/master/ab_testing/advertisement_clicks.csv"
   ]
  },
  {
   "cell_type": "markdown",
   "id": "8c6125bd",
   "metadata": {},
   "source": [
    "## Data Import and first Inspection"
   ]
  },
  {
   "cell_type": "code",
   "execution_count": 19,
   "id": "ca3dc4ea",
   "metadata": {},
   "outputs": [],
   "source": [
    "import pandas as pd\n",
    "import seaborn as sns\n",
    "import matplotlib.pyplot as plt\n",
    "from statsmodels.stats.weightstats import ztest"
   ]
  },
  {
   "cell_type": "code",
   "execution_count": 20,
   "id": "86431794",
   "metadata": {},
   "outputs": [],
   "source": [
    "df = pd.read_excel('advertisment_clicks.xlsx')"
   ]
  },
  {
   "cell_type": "code",
   "execution_count": 21,
   "id": "e17953d8",
   "metadata": {},
   "outputs": [
    {
     "data": {
      "text/html": [
       "<div>\n",
       "<style scoped>\n",
       "    .dataframe tbody tr th:only-of-type {\n",
       "        vertical-align: middle;\n",
       "    }\n",
       "\n",
       "    .dataframe tbody tr th {\n",
       "        vertical-align: top;\n",
       "    }\n",
       "\n",
       "    .dataframe thead th {\n",
       "        text-align: right;\n",
       "    }\n",
       "</style>\n",
       "<table border=\"1\" class=\"dataframe\">\n",
       "  <thead>\n",
       "    <tr style=\"text-align: right;\">\n",
       "      <th></th>\n",
       "      <th>Unnamed: 0</th>\n",
       "      <th>Unnamed: 1</th>\n",
       "    </tr>\n",
       "  </thead>\n",
       "  <tbody>\n",
       "    <tr>\n",
       "      <th>0</th>\n",
       "      <td>advertisement_id</td>\n",
       "      <td>action</td>\n",
       "    </tr>\n",
       "    <tr>\n",
       "      <th>1</th>\n",
       "      <td>NaN</td>\n",
       "      <td>NaN</td>\n",
       "    </tr>\n",
       "    <tr>\n",
       "      <th>2</th>\n",
       "      <td>B</td>\n",
       "      <td>1</td>\n",
       "    </tr>\n",
       "    <tr>\n",
       "      <th>3</th>\n",
       "      <td>NaN</td>\n",
       "      <td>NaN</td>\n",
       "    </tr>\n",
       "    <tr>\n",
       "      <th>4</th>\n",
       "      <td>B</td>\n",
       "      <td>1</td>\n",
       "    </tr>\n",
       "  </tbody>\n",
       "</table>\n",
       "</div>"
      ],
      "text/plain": [
       "         Unnamed: 0 Unnamed: 1\n",
       "0  advertisement_id     action\n",
       "1               NaN        NaN\n",
       "2                 B          1\n",
       "3               NaN        NaN\n",
       "4                 B          1"
      ]
     },
     "execution_count": 21,
     "metadata": {},
     "output_type": "execute_result"
    }
   ],
   "source": [
    "df.head()"
   ]
  },
  {
   "cell_type": "markdown",
   "id": "8f31bb0e",
   "metadata": {},
   "source": [
    "The dataframe has unnamed columns as well as a lot of NaN values. To fix it, we need to do a small amount of feature engineering."
   ]
  },
  {
   "cell_type": "markdown",
   "id": "ef889cb9",
   "metadata": {},
   "source": [
    "## Feature Enigineering"
   ]
  },
  {
   "cell_type": "code",
   "execution_count": 22,
   "id": "32c7d196",
   "metadata": {},
   "outputs": [],
   "source": [
    "df.dropna(inplace=True)"
   ]
  },
  {
   "cell_type": "code",
   "execution_count": 23,
   "id": "24f775e8",
   "metadata": {},
   "outputs": [],
   "source": [
    "df = df.rename(columns={'Unnamed: 0': 'advertisement_id', 'Unnamed: 1': 'action'})"
   ]
  },
  {
   "cell_type": "code",
   "execution_count": 24,
   "id": "5d0755d8",
   "metadata": {},
   "outputs": [],
   "source": [
    "df.reset_index(drop=True, inplace=True)"
   ]
  },
  {
   "cell_type": "code",
   "execution_count": 25,
   "id": "a46794f8",
   "metadata": {},
   "outputs": [],
   "source": [
    "df.drop(index=[0],  inplace=True)"
   ]
  },
  {
   "cell_type": "code",
   "execution_count": 26,
   "id": "7f4d4dfc",
   "metadata": {},
   "outputs": [
    {
     "data": {
      "text/html": [
       "<div>\n",
       "<style scoped>\n",
       "    .dataframe tbody tr th:only-of-type {\n",
       "        vertical-align: middle;\n",
       "    }\n",
       "\n",
       "    .dataframe tbody tr th {\n",
       "        vertical-align: top;\n",
       "    }\n",
       "\n",
       "    .dataframe thead th {\n",
       "        text-align: right;\n",
       "    }\n",
       "</style>\n",
       "<table border=\"1\" class=\"dataframe\">\n",
       "  <thead>\n",
       "    <tr style=\"text-align: right;\">\n",
       "      <th></th>\n",
       "      <th>advertisement_id</th>\n",
       "      <th>action</th>\n",
       "    </tr>\n",
       "  </thead>\n",
       "  <tbody>\n",
       "    <tr>\n",
       "      <th>1</th>\n",
       "      <td>B</td>\n",
       "      <td>1</td>\n",
       "    </tr>\n",
       "    <tr>\n",
       "      <th>2</th>\n",
       "      <td>B</td>\n",
       "      <td>1</td>\n",
       "    </tr>\n",
       "    <tr>\n",
       "      <th>3</th>\n",
       "      <td>A</td>\n",
       "      <td>0</td>\n",
       "    </tr>\n",
       "    <tr>\n",
       "      <th>4</th>\n",
       "      <td>B</td>\n",
       "      <td>0</td>\n",
       "    </tr>\n",
       "    <tr>\n",
       "      <th>5</th>\n",
       "      <td>A</td>\n",
       "      <td>1</td>\n",
       "    </tr>\n",
       "    <tr>\n",
       "      <th>...</th>\n",
       "      <td>...</td>\n",
       "      <td>...</td>\n",
       "    </tr>\n",
       "    <tr>\n",
       "      <th>1996</th>\n",
       "      <td>A</td>\n",
       "      <td>0</td>\n",
       "    </tr>\n",
       "    <tr>\n",
       "      <th>1997</th>\n",
       "      <td>A</td>\n",
       "      <td>0</td>\n",
       "    </tr>\n",
       "    <tr>\n",
       "      <th>1998</th>\n",
       "      <td>A</td>\n",
       "      <td>0</td>\n",
       "    </tr>\n",
       "    <tr>\n",
       "      <th>1999</th>\n",
       "      <td>A</td>\n",
       "      <td>1</td>\n",
       "    </tr>\n",
       "    <tr>\n",
       "      <th>2000</th>\n",
       "      <td>A</td>\n",
       "      <td>0</td>\n",
       "    </tr>\n",
       "  </tbody>\n",
       "</table>\n",
       "<p>2000 rows × 2 columns</p>\n",
       "</div>"
      ],
      "text/plain": [
       "     advertisement_id action\n",
       "1                   B      1\n",
       "2                   B      1\n",
       "3                   A      0\n",
       "4                   B      0\n",
       "5                   A      1\n",
       "...               ...    ...\n",
       "1996                A      0\n",
       "1997                A      0\n",
       "1998                A      0\n",
       "1999                A      1\n",
       "2000                A      0\n",
       "\n",
       "[2000 rows x 2 columns]"
      ]
     },
     "execution_count": 26,
     "metadata": {},
     "output_type": "execute_result"
    }
   ],
   "source": [
    "df"
   ]
  },
  {
   "cell_type": "code",
   "execution_count": 27,
   "id": "c8e5d994",
   "metadata": {},
   "outputs": [
    {
     "data": {
      "text/plain": [
       "advertisement_id\n",
       "B    1000\n",
       "A    1000\n",
       "Name: count, dtype: int64"
      ]
     },
     "execution_count": 27,
     "metadata": {},
     "output_type": "execute_result"
    }
   ],
   "source": [
    "df['advertisement_id'].value_counts()"
   ]
  },
  {
   "cell_type": "code",
   "execution_count": 28,
   "id": "eea61dc2",
   "metadata": {},
   "outputs": [
    {
     "data": {
      "text/plain": [
       "action\n",
       "0    1324\n",
       "1     676\n",
       "Name: count, dtype: int64"
      ]
     },
     "execution_count": 28,
     "metadata": {},
     "output_type": "execute_result"
    }
   ],
   "source": [
    "df['action'].value_counts()"
   ]
  },
  {
   "cell_type": "markdown",
   "id": "aa7deb79",
   "metadata": {},
   "source": [
    "## A/B Test"
   ]
  },
  {
   "cell_type": "markdown",
   "id": "5cf47cff",
   "metadata": {},
   "source": [
    "### Define the Variables we Refer To"
   ]
  },
  {
   "cell_type": "markdown",
   "id": "4a2eb6db",
   "metadata": {},
   "source": [
    "To conduct the A/B-Test, we first define the variables we refer to. Those variables are advertisement_id variables 'A' and 'B'."
   ]
  },
  {
   "cell_type": "code",
   "execution_count": 29,
   "id": "f51cba26",
   "metadata": {},
   "outputs": [],
   "source": [
    "x1 = df[df['advertisement_id']=='A']['action'].to_numpy()\n",
    "x2 = df[df['advertisement_id']=='B']['action'].to_numpy()"
   ]
  },
  {
   "cell_type": "markdown",
   "id": "786fa042",
   "metadata": {},
   "source": [
    "### Compare the Distribution of those Variables"
   ]
  },
  {
   "cell_type": "markdown",
   "id": "797ac9ae",
   "metadata": {},
   "source": [
    "Here, our goal is to compare the means of the distributions of both advertisement_id variables. In a first step, we plot out the distribution of advertisement_id A and B."
   ]
  },
  {
   "cell_type": "code",
   "execution_count": 30,
   "id": "53d6045a",
   "metadata": {},
   "outputs": [
    {
     "data": {
      "image/png": "[encoded data removed]",
      "text/plain": [
       "<Figure size 864x432 with 1 Axes>"
      ]
     },
     "metadata": {
      "needs_background": "light"
     },
     "output_type": "display_data"
    }
   ],
   "source": [
    "plt.figure(figsize=(12,6))\n",
    "sns.kdeplot(x1, label='A')\n",
    "sns.kdeplot(x2, label='B')\n",
    "plt.title('Distribution of the Advertisement_Id', fontsize=14)\n",
    "plt.legend();"
   ]
  },
  {
   "cell_type": "markdown",
   "id": "d9c460fc",
   "metadata": {},
   "source": [
    "The plot shows a distribution that resembles a normal distribution for both values that the advertisement_id variables take on. Additionally, we observe that variable A is more heavily concentrated around 0, whereas variable B is more strongly distributed around 1."
   ]
  },
  {
   "cell_type": "markdown",
   "id": "109f674c",
   "metadata": {},
   "source": [
    "If we also compare there mean values, we can detect a slightly higher mean for advertisement_id B. "
   ]
  },
  {
   "cell_type": "code",
   "execution_count": 31,
   "id": "c9ef9725",
   "metadata": {},
   "outputs": [
    {
     "data": {
      "text/plain": [
       "(0.304, 0.372)"
      ]
     },
     "execution_count": 31,
     "metadata": {},
     "output_type": "execute_result"
    }
   ],
   "source": [
    "x1.mean(), x2.mean()"
   ]
  },
  {
   "cell_type": "markdown",
   "id": "6ce18b02",
   "metadata": {},
   "source": [
    "### Formulating the Hypothesis"
   ]
  },
  {
   "cell_type": "markdown",
   "id": "a62c2cae",
   "metadata": {},
   "source": [
    "That leads us to formulate the following assumption:  \n",
    "* **Variable B has a higher mean than variable A.**"
   ]
  },
  {
   "cell_type": "markdown",
   "id": "7c95a306",
   "metadata": {},
   "source": [
    "**To verify our assumption, we conduct an A/B-Test, as follows:**\n",
    "   * **H_0 (Null hypothesis): x1_mean >= x2_mean**\n",
    "   * **H_1 (Alternative Hypothesis): x1_mean < x2_mean**"
   ]
  },
  {
   "cell_type": "markdown",
   "id": "c4b1b214",
   "metadata": {},
   "source": [
    "### Conducting the A/B-Test "
   ]
  },
  {
   "cell_type": "code",
   "execution_count": 33,
   "id": "7e88b511",
   "metadata": {},
   "outputs": [
    {
     "name": "stdout",
     "output_type": "stream",
     "text": [
      "Statistics=-3.22117, p=0.00064\n",
      "x1_mean < x2_mean (reject H0)\n"
     ]
    }
   ],
   "source": [
    "alpha = 0.5\n",
    "\n",
    "stat, p = ztest(x1, x2, value=0, alternative='smaller')\n",
    "\n",
    "print('Statistics=%.5f, p=%.5f' % (stat, p))\n",
    "\n",
    "if p > alpha:\n",
    "    print('x1_mean >= x2_mean (fail to reject H0)')\n",
    "else:\n",
    "    print('x1_mean < x2_mean (reject H0)')"
   ]
  },
  {
   "cell_type": "markdown",
   "id": "3f1e3102",
   "metadata": {},
   "source": [
    "### Interpreting the Result"
   ]
  },
  {
   "cell_type": "markdown",
   "id": "5648527b",
   "metadata": {},
   "source": [
    "Since significance level is smaller than 0.05, the null hypotheis is rejected."
   ]
  },
  {
   "cell_type": "markdown",
   "id": "825b380d",
   "metadata": {},
   "source": [
    "That means the __result__ \n",
    " \n",
    "* **x1_mean < x2_mean** \n",
    "\n",
    "is __statistically significant__. "
   ]
  },
  {
   "cell_type": "markdown",
   "id": "641734e5",
   "metadata": {},
   "source": [
    "### Appendix: Explaining the Choice of Parameters in the Z-Test Function"
   ]
  },
  {
   "cell_type": "markdown",
   "id": "c4d7dd5f",
   "metadata": {},
   "source": [
    "How to explain the choice of parameters within the ztest function? The documentation of ztest states: In the two-sample case, the value parameter is the difference between the mean of x1 and the mean of x2 under the null hypothesis. Since we are assuming that the mean of x2 is greater than the mean of x1, it would yield a value parameter less than 0. We can specify a difference between the means that is less than zero using the alternative parameter. In this case, we are assigning the alternative parameter the value 'smaller'."
   ]
  },
  {
   "cell_type": "markdown",
   "id": "bd9bc5bf",
   "metadata": {},
   "source": [
    "# References"
   ]
  },
  {
   "cell_type": "markdown",
   "id": "7e3cd779",
   "metadata": {},
   "source": [
    "https://www.udemy.com/course/bayesian-machine-learning-in-python-ab-testing"
   ]
  },
  {
   "cell_type": "markdown",
   "id": "df911e04",
   "metadata": {},
   "source": [
    "https://github.com/lazyprogrammer/machine_learning_examples/blob/master/ab_testing/advertisement_clicks.csv"
   ]
  },
  {
   "cell_type": "code",
   "execution_count": null,
   "id": "d52b40f5",
   "metadata": {},
   "outputs": [],
   "source": []
  }
 ],
 "metadata": {
  "kernelspec": {
   "display_name": "Python 3 (ipykernel)",
   "language": "python",
   "name": "python3"
  },
  "language_info": {
   "codemirror_mode": {
    "name": "ipython",
    "version": 3
   },
   "file_extension": ".py",
   "mimetype": "text/x-python",
   "name": "python",
   "nbconvert_exporter": "python",
   "pygments_lexer": "ipython3",
   "version": "3.10.6"
  }
 },
 "nbformat": 4,
 "nbformat_minor": 5
}
